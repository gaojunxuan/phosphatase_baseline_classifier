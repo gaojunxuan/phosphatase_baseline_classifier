{
 "cells": [
  {
   "cell_type": "code",
   "execution_count": null,
   "id": "august-conclusion",
   "metadata": {},
   "outputs": [],
   "source": [
    "from numpy import NaN\n",
    "import pandas as pd\n",
    "\n",
    "matrix = pd.DataFrame([1,2,3,4,NaN], columns=['Number'], dtype='float64')\n",
    "# Remove NaN in column 'Number'\n",
    "matrix['Number'][~matrix['Number'].isnull()]"
   ]
  }
 ],
 "metadata": {
  "kernelspec": {
   "display_name": "Python 3",
   "language": "python",
   "name": "python3"
  },
  "language_info": {
   "codemirror_mode": {
    "name": "ipython",
    "version": 3
   },
   "file_extension": ".py",
   "mimetype": "text/x-python",
   "name": "python",
   "nbconvert_exporter": "python",
   "pygments_lexer": "ipython3",
   "version": "3.9.2"
  }
 },
 "nbformat": 4,
 "nbformat_minor": 5
}
